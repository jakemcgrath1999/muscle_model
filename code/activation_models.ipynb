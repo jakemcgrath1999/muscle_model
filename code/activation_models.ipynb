{
 "cells": [
  {
   "cell_type": "code",
   "execution_count": 1,
   "metadata": {},
   "outputs": [],
   "source": [
    "import numpy as np\n",
    "import matplotlib.pyplot as plt\n",
    "from scipy.integrate import odeint, solve_ivp"
   ]
  },
  {
   "cell_type": "code",
   "execution_count": 2,
   "metadata": {},
   "outputs": [],
   "source": [
    "class Activation:\n",
    "    \"\"\"\n",
    "    relates nueral excitation and muscle activation.  this is a parent class without methods implemented.\n",
    "    to use an activation model, use one of the child classes below that either returns adot (the derivative\n",
    "    of activation) or a itelf (activation) as a function of u (neural input) and a (previous activation)\n",
    "\n",
    "    Parameters\n",
    "        u          (float):   unitless excitation value b/w 0-1\n",
    "        a          (float):   unitless activation value b/w 0-1\n",
    "        tau_act    (float):   activation timescale 10 ms\n",
    "        tau_deact  (float):   deactivation timescale 40 ms\n",
    "    \"\"\"\n",
    "    def __init__(self, u, tau_act = 0.01, tau_deact = 0.04):\n",
    "        self.u = u\n",
    "        self.tau_act = tau_act\n",
    "        self.tau_deact = tau_deact\n",
    "               \n",
    "    def __call__(self, t, a):\n",
    "        return self.rhs(t, a)\n",
    "    \n",
    "    def rhs(self, t, a):\n",
    "        # maybe give finite differences as adot\n",
    "        raise Exception('Method implemented in child class')\n",
    "        \n",
    "    def a(self, a):\n",
    "        raise Exception('Method implemented in child class')"
   ]
  },
  {
   "cell_type": "code",
   "execution_count": 3,
   "metadata": {},
   "outputs": [],
   "source": [
    "class Thelen(Activation):\n",
    "    def __init__(self, u, **kwargs):\n",
    "        super().__init__(u, **kwargs)\n",
    "        \n",
    "    def __call__(self, t, a):\n",
    "        return self.rhs(t, a)\n",
    "    \n",
    "    def rhs(self, t, a):\n",
    "        if self.u >= a:\n",
    "            adot = (self.u - a) / self.tau_act\n",
    "        else:\n",
    "            adot = (self.u - a) / self.tau_deact\n",
    "        return adot"
   ]
  },
  {
   "cell_type": "code",
   "execution_count": 4,
   "metadata": {},
   "outputs": [],
   "source": [
    "class Winters(Activation):\n",
    "    def __init__(self, u, **kwargs):\n",
    "        super().__init__(u, **kwargs)\n",
    "        \n",
    "    def __call__(self, t, a):\n",
    "        return self.rhs(t, a)\n",
    "    \n",
    "    def rhs(self, t, a):\n",
    "        if self.u > a:\n",
    "            tau = self.tau_act * (0.5 + 1.5*a)\n",
    "        else:\n",
    "            tau = self.tau_deact / (0.5 + 1.5*a)\n",
    "        adot = (self.u - a) / tau\n",
    "        return adot"
   ]
  },
  {
   "cell_type": "code",
   "execution_count": 5,
   "metadata": {},
   "outputs": [],
   "source": [
    "class Zajac(Activation):\n",
    "    def __init__(self, u, **kwargs):\n",
    "        super().__init__(u, **kwargs)\n",
    "        self.beta = self.tau_act / self.tau_deact\n",
    "        \n",
    "    def __call__(self, t, a):\n",
    "        return self.rhs(t, a)\n",
    "    \n",
    "    def rhs(self, t, a):\n",
    "        adot = 1 / self.tau_act * ( self.u - a * (self.beta + (1+self.beta) * self.u) )\n",
    "        return adot"
   ]
  },
  {
   "cell_type": "code",
   "execution_count": 6,
   "metadata": {},
   "outputs": [],
   "source": [
    "class Manal(Activation):\n",
    "    def __init__(self, u, **kwargs):\n",
    "        super().__init__(u, **kwargs)\n",
    "        self.uo = 0.3085 - self.tau_act * np.cos( np.pi / 4 )\n",
    "        self.ao = 0.3085 + self.tau_act * np.sin( np.pi / 4 )\n",
    "        self.m = (self.ao-1) / (self.uo-1)\n",
    "        self.c = 1 - self.m\n",
    "        self.beta = (np.exp(self.ao / self.tau_deact) - 1) / self.uo\n",
    "        \n",
    "    def __call__(self, t, a):\n",
    "        return self.rhs(t, a)\n",
    "    \n",
    "    def rhs(self, t, a):\n",
    "        if self.u <= self.uo:\n",
    "            adot = self.tau_deact * np.log( self.beta * self.u + 1 )\n",
    "        elif self.u > self.uo:\n",
    "            adot = self.m * self.u + self.c\n",
    "        return adot"
   ]
  },
  {
   "cell_type": "code",
   "execution_count": 7,
   "metadata": {},
   "outputs": [],
   "source": [
    "class Chadwick(Activation):\n",
    "    def __init__(self, u, **kwargs):\n",
    "        super().__init__(u, **kwargs)\n",
    "        \n",
    "    def __call__(self, t, a):\n",
    "        return self.rhs(t, a)\n",
    "    \n",
    "    def rhs(self, t, a):\n",
    "        adot = ( self.u - a ) * (self.u / self.tau_act + (1 - self.u) / self.tau_deact )\n",
    "        return adot"
   ]
  },
  {
   "cell_type": "code",
   "execution_count": 8,
   "metadata": {},
   "outputs": [],
   "source": [
    "class Nagano(Activation):\n",
    "    def __init__(self, u, **kwargs):\n",
    "        super().__init__(u, **kwargs)\n",
    "        self.t2 = 1 / self.tau_deact\n",
    "        self.t1 = 1 / (self.tau_act - self.t2)\n",
    "        \n",
    "    def __call__(self, t, a):\n",
    "        return self.rhs(t, a)\n",
    "    \n",
    "    def rhs(self, t, a):\n",
    "        adot = (self.u - a) * (self.t1 * self.u + self.t2)\n",
    "        return adot"
   ]
  },
  {
   "cell_type": "code",
   "execution_count": 9,
   "metadata": {},
   "outputs": [],
   "source": [
    "class Rengifo(Activation):\n",
    "    def __init__(self, u, **kwargs):\n",
    "        super().__init__(u, **kwargs)\n",
    "        \n",
    "    def __call__(self, t, a):\n",
    "        return self.rhs(t, a)\n",
    "    \n",
    "    def rhs(self, t, a):\n",
    "        if self.u >= a:\n",
    "            adot = -a / self.tau_act + self.u / self.tau_act\n",
    "        elif a > self.u:\n",
    "            adot = -a / self.tau_deact + self.u / self.tau_deact\n",
    "        return adot"
   ]
  },
  {
   "cell_type": "code",
   "execution_count": 10,
   "metadata": {},
   "outputs": [],
   "source": [
    "class AModel(Activation):\n",
    "    def __init__(self, u, **kwargs):\n",
    "        super().__init__(u, **kwargs)\n",
    "        self.A = -2.0\n",
    "    \n",
    "    def a(self):\n",
    "        a = (np.exp(self.tau_act * self.u) - 1) / (np.exp(self.tau_act) - 1)\n",
    "        return a"
   ]
  },
  {
   "cell_type": "code",
   "execution_count": 11,
   "metadata": {},
   "outputs": [],
   "source": [
    "class Cavallaro(Activation):\n",
    "    def __init__(self, u, **kwargs):\n",
    "        super().__init__(u, **kwargs)\n",
    "        self.A = -2.0\n",
    "    \n",
    "    def a(self):\n",
    "        a = (self.tau_act**self.u - 1) / (self.tau_act - 1)\n",
    "        return a"
   ]
  },
  {
   "cell_type": "code",
   "execution_count": null,
   "metadata": {},
   "outputs": [],
   "source": []
  }
 ],
 "metadata": {
  "kernelspec": {
   "display_name": "Python 3",
   "language": "python",
   "name": "python3"
  },
  "language_info": {
   "codemirror_mode": {
    "name": "ipython",
    "version": 3
   },
   "file_extension": ".py",
   "mimetype": "text/x-python",
   "name": "python",
   "nbconvert_exporter": "python",
   "pygments_lexer": "ipython3",
   "version": "3.7.4"
  }
 },
 "nbformat": 4,
 "nbformat_minor": 2
}
